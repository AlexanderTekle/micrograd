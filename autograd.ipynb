{
 "cells": [
  {
   "cell_type": "markdown",
   "id": "2eb68225-2e32-491a-8aed-473371e0e6ee",
   "metadata": {},
   "source": [
    "Implemenation and notes of backpropagation in its simplest form."
   ]
  },
  {
   "cell_type": "markdown",
   "id": "1a1f51ca-dc5f-4691-86a6-437dcec3d377",
   "metadata": {},
   "source": [
    "Backpropagation is essentially applying chain rule on your function. Gets the derivative of each variable, determing the impact of each variable on the overall output. \n",
    "\n",
    "Neural nets are the large scale operation of backprop, essentially iterating upon mathematical expressions."
   ]
  },
  {
   "cell_type": "code",
   "execution_count": null,
   "id": "61c9584a-7b72-423a-a67e-eeb7bfc81620",
   "metadata": {},
   "outputs": [],
   "source": [
    "import math\n",
    "import numpy as np"
   ]
  },
  {
   "cell_type": "code",
   "execution_count": 33,
   "id": "f2eaa125-5f7f-4f3e-a0b1-1cc181a8536b",
   "metadata": {},
   "outputs": [],
   "source": [
    "class Value:\n",
    "  #constructor\n",
    "  def __init__(self, data, _children=(), _op=''):\n",
    "    self.data = data\n",
    "    self._prev = set(_children)\n",
    "    self._op = _op\n",
    "    self.grad = 0.0\n",
    "  #string representation\n",
    "  def __repr__(self):\n",
    "    return f\"Value(data={self.data})\"\n",
    "\n",
    "  #add operator\n",
    "  def __add__(self, other):\n",
    "    out = Value(self.data + other.data, (self, other), '+') \n",
    "    return out\n",
    "\n",
    "  def __mul__(self, other):\n",
    "    out = Value(self.data * other.data, (self, other), '*')\n",
    "    return out "
   ]
  },
  {
   "cell_type": "code",
   "execution_count": 34,
   "id": "f2082a79-e098-4e31-bf14-cd842f2537e7",
   "metadata": {},
   "outputs": [
    {
     "data": {
      "text/plain": [
       "{Value(data=-6.0), Value(data=10.0)}"
      ]
     },
     "execution_count": 34,
     "metadata": {},
     "output_type": "execute_result"
    }
   ],
   "source": [
    "a = Value(2.0)\n",
    "b = Value(-3.0)\n",
    "c = Value(10.0)\n",
    "a+b #a.__add__(b)\n",
    "a*b #a.__mul__(b)\n",
    "d= a*b + c #(a.__mul__(b)).__add__(b)\n",
    "d._prev"
   ]
  },
  {
   "cell_type": "code",
   "execution_count": null,
   "id": "8c483b64-7a8f-491c-83a9-0ee210c9b99b",
   "metadata": {},
   "outputs": [],
   "source": []
  }
 ],
 "metadata": {
  "kernelspec": {
   "display_name": "Python 3 (ipykernel)",
   "language": "python",
   "name": "python3"
  },
  "language_info": {
   "codemirror_mode": {
    "name": "ipython",
    "version": 3
   },
   "file_extension": ".py",
   "mimetype": "text/x-python",
   "name": "python",
   "nbconvert_exporter": "python",
   "pygments_lexer": "ipython3",
   "version": "3.12.3"
  }
 },
 "nbformat": 4,
 "nbformat_minor": 5
}
